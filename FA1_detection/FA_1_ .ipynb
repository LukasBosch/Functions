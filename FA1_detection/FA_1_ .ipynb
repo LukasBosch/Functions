{
 "cells": [
  {
   "cell_type": "code",
   "execution_count": 1,
   "id": "79ac113c",
   "metadata": {},
   "outputs": [
    {
     "ename": "FileNotFoundError",
     "evalue": "[Errno 2] No such file or directory: 'graphnodes_edgecase_node_9.ndjson'",
     "output_type": "error",
     "traceback": [
      "\u001b[1;31m---------------------------------------------------------------------------\u001b[0m",
      "\u001b[1;31mFileNotFoundError\u001b[0m                         Traceback (most recent call last)",
      "\u001b[1;32mc:\\Users\\DE125469\\Desktop\\BETA\\Functions\\FA1_detection\\FA_1_ .ipynb Cell 1'\u001b[0m in \u001b[0;36m<cell line: 6>\u001b[1;34m()\u001b[0m\n\u001b[0;32m      <a href='vscode-notebook-cell:/c%3A/Users/DE125469/Desktop/BETA/Functions/FA1_detection/FA_1_%20.ipynb#ch0000000?line=3'>4</a>\u001b[0m \u001b[39m#data_file = 'graphnodes.ndjson'\u001b[39;00m\n\u001b[0;32m      <a href='vscode-notebook-cell:/c%3A/Users/DE125469/Desktop/BETA/Functions/FA1_detection/FA_1_%20.ipynb#ch0000000?line=4'>5</a>\u001b[0m data_file \u001b[39m=\u001b[39m \u001b[39m'\u001b[39m\u001b[39mgraphnodes_edgecase_node_9.ndjson\u001b[39m\u001b[39m'\u001b[39m\n\u001b[1;32m----> <a href='vscode-notebook-cell:/c%3A/Users/DE125469/Desktop/BETA/Functions/FA1_detection/FA_1_%20.ipynb#ch0000000?line=5'>6</a>\u001b[0m records \u001b[39m=\u001b[39m \u001b[39mmap\u001b[39m(json\u001b[39m.\u001b[39mloads, \u001b[39mopen\u001b[39;49m(data_file))\n\u001b[0;32m      <a href='vscode-notebook-cell:/c%3A/Users/DE125469/Desktop/BETA/Functions/FA1_detection/FA_1_%20.ipynb#ch0000000?line=6'>7</a>\u001b[0m df \u001b[39m=\u001b[39m pd\u001b[39m.\u001b[39mDataFrame\u001b[39m.\u001b[39mfrom_records(records)\n",
      "\u001b[1;31mFileNotFoundError\u001b[0m: [Errno 2] No such file or directory: 'graphnodes_edgecase_node_9.ndjson'"
     ]
    }
   ],
   "source": [
    "import ujson as json\n",
    "import pandas as pd\n",
    "\n",
    "#data_file = 'graphnodes.ndjson'\n",
    "data_file = 'testdata/graphnodes_edgecase_node_9.ndjson'\n",
    "records = map(json.loads, open(data_file))\n",
    "df = pd.DataFrame.from_records(records)"
   ]
  },
  {
   "cell_type": "code",
   "execution_count": null,
   "id": "ed2531b0",
   "metadata": {},
   "outputs": [],
   "source": [
    "neighbor_nodes = []\n",
    "for col1, row in zip(df[\"node_id\"], df[\"node\"]):\n",
    "    for d in row:\n",
    "        for k, v in d.items():\n",
    "            neighbor_nodes.append({\"node_id\": col1, \"neighbor_nodes\": k, \"direction\": v})\n",
    "df_1 = pd.DataFrame(neighbor_nodes)\n",
    "#relevant_nodes_list = tmp[\"node_id\"].unique(). "
   ]
  },
  {
   "cell_type": "code",
   "execution_count": null,
   "id": "4aa0b642",
   "metadata": {},
   "outputs": [],
   "source": [
    "transaction_time = []\n",
    "transaction_list = []\n",
    "for col1, col2 in zip(df[\"transaction_val\"], df[\"transaction_time\"]):\n",
    "    for c1 in col1:\n",
    "        transaction_list.append(c1)\n",
    "    for c2 in col2:\n",
    "        transaction_time.append(c2)\n",
    "df_1[\"transaction_val\"] = transaction_list\n",
    "df_1[\"transaction_time\"] = transaction_time\n",
    "\n",
    "df[\"FA_1_case_1\"] = df[\"labels\"].apply(lambda x: x[\"FA_1_case_1\"])\n",
    "df[\"FA_1_case_2\"] = df[\"labels\"].apply(lambda x: x[\"FA_1_case_2\"]) \n",
    "\n",
    "df_final = pd.merge(df_1, df[[\"node_id\",\"FA_1_case_1\", \"FA_1_case_2\"]], on=\"node_id\", how=\"left\")"
   ]
  },
  {
   "cell_type": "code",
   "execution_count": null,
   "id": "60f90ceb",
   "metadata": {
    "scrolled": false
   },
   "outputs": [],
   "source": [
    "# filter out single transation\n",
    "tmp = (df_final.groupby([\"node_id\",\"direction\"]).count() == 1).neighbor_nodes.reset_index().rename(columns={\"neighbor_nodes\":\"single_trans\"})\n",
    "tmp = tmp.loc[tmp.single_trans == False].drop([\"single_trans\"], axis=1)\n",
    "\n",
    "# create the df_mask dataframe\n",
    "# mask_1_case_1 checks if it's a \"in\" relation \n",
    "# mask_1_case_2 checks if it's a \"out\" relation\n",
    "\n",
    "df_mask = pd.merge(tmp,df_final, on = [\"node_id\",\"direction\"], how=\"left\")\n",
    "df_mask[\"mask_1_case_1\"] = df_mask[\"direction\"].apply(lambda x: True if x == \"out\" else False)\n",
    "df_mask[\"mask_1_case_2\"] = df_mask[\"direction\"].apply(lambda x: True if x == \"in\" else False)\n",
    "\n",
    "# filter out the trans_val > 10000\n",
    "# mask_2_case_1 checks if sum of all \"in\" transactions is > 10000\n",
    "# mask_2_case_2 checks if sum of all \"out\" transactions is > 10000\n",
    "df_mask = df_mask[df_mask[\"transaction_val\"] < 10000]\n",
    "\n",
    "tmp_2 = df_mask.groupby([\"node_id\",\"direction\"]).sum().transaction_val.reset_index()\n",
    "tmp_2[\"threshold_tot_trans_val\"] = tmp_2[\"transaction_val\"] > 10000\n",
    "df_mask = pd.merge(df_mask, tmp_2.drop([\"transaction_val\"],axis=1), on = [\"node_id\",\"direction\"], how=\"left\")\n",
    "\n",
    "df_mask[\"mask_2_case_1\"] = df_mask[\"mask_1_case_1\"] & df_mask[\"threshold_tot_trans_val\"]\n",
    "df_mask[\"mask_2_case_2\"] = df_mask[\"mask_1_case_2\"] & df_mask[\"threshold_tot_trans_val\"]\n",
    "#df_mask"
   ]
  },
  {
   "cell_type": "code",
   "execution_count": null,
   "id": "f90d64c1",
   "metadata": {},
   "outputs": [],
   "source": []
  },
  {
   "cell_type": "code",
   "execution_count": null,
   "id": "86004707",
   "metadata": {},
   "outputs": [],
   "source": [
    "case1_candidates = df_mask[df_mask['mask_2_case_1']]\n",
    "case2_candidates = df_mask[df_mask['mask_2_case_2']]\n",
    "case2_candidates"
   ]
  },
  {
   "cell_type": "code",
   "execution_count": null,
   "id": "3dfe2d65",
   "metadata": {},
   "outputs": [],
   "source": []
  },
  {
   "cell_type": "code",
   "execution_count": null,
   "id": "70e7b97b",
   "metadata": {},
   "outputs": [],
   "source": [
    "#no time-jump, no self-call\n",
    "def thresholds_FA1(df_node, start_index):\n",
    "    node_flag = False\n",
    "    end = df_node.shape[0]\n",
    "    total_amount = 0\n",
    "    #Sum over amounts until Threshold is reached\n",
    "    for i in list(range(start_index, end)):\n",
    "        total_amount = total_amount + df_node['transaction_val'].values[i]\n",
    "        if total_amount >= 10000:\n",
    "            time_window = df_node['transaction_time'].values[i] - df_node['transaction_time'].values[start_index]\n",
    "            #When Threshold is reached, check if it is in defined time windowd (48h = 172800s)\n",
    "            if time_window <= 172800:\n",
    "                node_flag = True\n",
    "                return node_flag\n",
    "            else:\n",
    "                i = start_index + 1\n",
    "                start_index = i\n",
    "                #node_flag = thresholds_FA1(df_node, start_index)\n",
    "    return node_flag"
   ]
  },
  {
   "cell_type": "code",
   "execution_count": null,
   "id": "81c73275",
   "metadata": {},
   "outputs": [],
   "source": [
    "def flagger_FA1(df_candidates):\n",
    "    start_index = 0\n",
    "    #j keeps track of current line in df_candidates to check if next node is same as previous\n",
    "    #j = 0\n",
    "    node_flags = {}\n",
    "    #loop over all candidates\n",
    "    for node in df_candidates['node_id'].unique().tolist():\n",
    "        df_node = df_candidates[df_candidates['node_id'] == node].sort_values(by='transaction_time').reset_index(drop=True)\n",
    "        node_flag = thresholds_FA1(df_node, start_index)\n",
    "        node_flags[node] = node_flag\n",
    "    return node_flags"
   ]
  },
  {
   "cell_type": "code",
   "execution_count": null,
   "id": "4d701a3d",
   "metadata": {},
   "outputs": [],
   "source": [
    "case1_flags = flagger_FA1(case1_candidates)\n",
    "case2_flags = flagger_FA1(case2_candidates)\n",
    "print([case1_flags, case2_flags])"
   ]
  },
  {
   "cell_type": "code",
   "execution_count": null,
   "id": "b0635262",
   "metadata": {},
   "outputs": [],
   "source": []
  },
  {
   "cell_type": "code",
   "execution_count": null,
   "id": "9bee736a",
   "metadata": {},
   "outputs": [],
   "source": [
    "#time jump, self-call\n",
    "def thresholds_FA1_time_jump(df_node, start_index):\n",
    "    node_flag = False\n",
    "    end_index = df_node.shape[0]\n",
    "    time_window_end = df_node['transaction_time'].values[start_index] + 172801\n",
    "    index_latest_trx = df_node['transaction_time'].searchsorted(time_window_end, side = 'left') - 1\n",
    "    trx_sum = df_node['transaction_val'].iloc[start_index:index_latest_trx + 1].sum()\n",
    "    if trx_sum >= 10000:\n",
    "        node_flag = True\n",
    "    else:\n",
    "        start_index = start_index + 1\n",
    "        if start_index == end_index:\n",
    "            node_flag = False\n",
    "        else:\n",
    "            node_flag = thresholds_FA1_time_jump(df_node, start_index)\n",
    "    return node_flag"
   ]
  },
  {
   "cell_type": "code",
   "execution_count": null,
   "id": "7141fca7",
   "metadata": {},
   "outputs": [],
   "source": [
    "def flagger_FA1_time_jump(df_candidates):\n",
    "    start_index = 0\n",
    "    #j keeps track of current line in df_candidates to check if next node is same as previous\n",
    "    #j = 0\n",
    "    node_flags = {}\n",
    "    #loop over all candidates\n",
    "    for node in df_candidates['node_id'].unique().tolist():\n",
    "        df_node = df_candidates[df_candidates['node_id'] == node].sort_values(by='transaction_time').reset_index(drop=True)\n",
    "        node_flag = thresholds_FA1_time_jump(df_node, start_index)\n",
    "        node_flags[node] = node_flag\n",
    "    return node_flags"
   ]
  },
  {
   "cell_type": "code",
   "execution_count": null,
   "id": "ea2b5247",
   "metadata": {},
   "outputs": [],
   "source": [
    "case1_flags = flagger_FA1_time_jump(case1_candidates)\n",
    "case2_flags = flagger_FA1_time_jump(case2_candidates)\n",
    "print([case1_flags, case2_flags])"
   ]
  },
  {
   "cell_type": "code",
   "execution_count": null,
   "id": "c328ed46",
   "metadata": {},
   "outputs": [],
   "source": []
  },
  {
   "cell_type": "code",
   "execution_count": null,
   "id": "d16db82e",
   "metadata": {},
   "outputs": [],
   "source": [
    "# time-jump, no self-call\n",
    "def nr_thresholds_FA1_time_jump(df_node, start_index):\n",
    "    end_index = df_node.shape[0]\n",
    "    for i in  list(range(start_index, end_index)):\n",
    "        node_flag = False\n",
    "        time_window_end = df_node['transaction_time'].values[start_index] + 172801\n",
    "        index_latest_trx = df_node['transaction_time'].searchsorted(time_window_end, side = 'left') - 1\n",
    "        trx_sum = df_node['transaction_val'].iloc[start_index:index_latest_trx + 1].sum()\n",
    "        if trx_sum >= 10000:\n",
    "            node_flag = True\n",
    "        else:\n",
    "            start_index = start_index + 1\n",
    "            if start_index == end_index:\n",
    "                node_flag = False\n",
    "    return node_flag"
   ]
  },
  {
   "cell_type": "code",
   "execution_count": null,
   "id": "7cef1d82",
   "metadata": {},
   "outputs": [],
   "source": [
    "def nr_flagger_FA1_time_jump(df_candidates):\n",
    "    start_index = 0\n",
    "    #j keeps track of current line in df_candidates to check if next node is same as previous\n",
    "    #j = 0\n",
    "    node_flags = {}\n",
    "    #loop over all candidates\n",
    "    for node in df_candidates['node_id'].unique().tolist():\n",
    "        df_node = df_candidates[df_candidates['node_id'] == node].sort_values(by='transaction_time').reset_index(drop=True)\n",
    "        node_flag = nr_thresholds_FA1_time_jump(df_node, start_index)\n",
    "        node_flags[node] = node_flag\n",
    "    return node_flags"
   ]
  },
  {
   "cell_type": "code",
   "execution_count": null,
   "id": "0262a365",
   "metadata": {},
   "outputs": [],
   "source": [
    "case1_flags = nr_flagger_FA1_time_jump(case1_candidates)\n",
    "case2_flags = nr_flagger_FA1_time_jump(case2_candidates)\n",
    "print([case1_flags, case2_flags])"
   ]
  },
  {
   "cell_type": "code",
   "execution_count": null,
   "id": "fb497e85",
   "metadata": {},
   "outputs": [],
   "source": []
  },
  {
   "cell_type": "code",
   "execution_count": null,
   "id": "bab5e842",
   "metadata": {},
   "outputs": [],
   "source": [
    "dummy_flags = [False] * df_final.shape[0]\n",
    "df_final['Case1_Flag'] = dummy_flags\n",
    "df_final['Case2_Flag'] = dummy_flags\n",
    "for node in df_final['node_id']:\n",
    "    #mask = (int(df_final['node_id']) == node)\n",
    "    #print(node)\n",
    "    if node in case1_flags:\n",
    "        df_final.loc[(df_final['node_id'] == node, 'Case1_Flag')] = case1_flags[node]\n",
    "    if node in case2_flags:\n",
    "        df_final.loc[(df_final['node_id'] == node, 'Case2_Flag')] = case2_flags[node]"
   ]
  },
  {
   "cell_type": "code",
   "execution_count": null,
   "id": "e857ebe9",
   "metadata": {},
   "outputs": [],
   "source": [
    "df_final"
   ]
  },
  {
   "cell_type": "code",
   "execution_count": null,
   "id": "64a9d7c0",
   "metadata": {},
   "outputs": [],
   "source": []
  }
 ],
 "metadata": {
  "kernelspec": {
   "display_name": "beta_venv",
   "language": "python",
   "name": "beta_venv"
  },
  "language_info": {
   "codemirror_mode": {
    "name": "ipython",
    "version": 3
   },
   "file_extension": ".py",
   "mimetype": "text/x-python",
   "name": "python",
   "nbconvert_exporter": "python",
   "pygments_lexer": "ipython3",
   "version": "3.10.5"
  },
  "vscode": {
   "interpreter": {
    "hash": "d42e50c1c32b3fc4e335ff22de11e25cb9c2ad7c40e755b211d772fa0f8c5c7d"
   }
  }
 },
 "nbformat": 4,
 "nbformat_minor": 5
}
